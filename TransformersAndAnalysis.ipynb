{
  "nbformat": 4,
  "nbformat_minor": 0,
  "metadata": {
    "colab": {
      "provenance": [],
      "authorship_tag": "ABX9TyMcxs9K0/2E8ZVnRBrKh0JF",
      "include_colab_link": true
    },
    "kernelspec": {
      "name": "python3",
      "display_name": "Python 3"
    },
    "language_info": {
      "name": "python"
    }
  },
  "cells": [
    {
      "cell_type": "markdown",
      "metadata": {
        "id": "view-in-github",
        "colab_type": "text"
      },
      "source": [
        "<a href=\"https://colab.research.google.com/github/HedersonSantos/PredictFligthTicket/blob/main/TransformersAndAnalysis.ipynb\" target=\"_parent\"><img src=\"https://colab.research.google.com/assets/colab-badge.svg\" alt=\"Open In Colab\"/></a>"
      ]
    },
    {
      "cell_type": "code",
      "execution_count": 157,
      "metadata": {
        "id": "64AUnQuu7fmK"
      },
      "outputs": [],
      "source": [
        "import pandas as pd\n",
        "import numpy as np\n",
        "from google.colab import files, drive\n",
        "from pathlib import Path\n",
        "from sklearn.model_selection import train_test_split\n",
        "import io, math\n",
        "import matplotlib.pyplot as plt\n",
        "import seaborn as sns\n",
        "sns.set(rc={'figure.figsize':(11.7,8.27)})\n",
        "palette = sns.color_palette(\"bright\", 10)\n",
        "\n",
        "pd.set_option('display.max_columns', None)\n",
        "pd.set_option('display.max_rows', None)\n",
        "pd.set_option('max_colwidth', None)\n",
        "#https://machinehack.com/hackathons/predict_the_flight_ticket_price_hackathon/data     "
      ]
    },
    {
      "cell_type": "code",
      "source": [
        "!wget https://raw.githubusercontent.com/HedersonSantos/PredictFligthTicket/main/data/Data_Train.csv\n",
        "!wget https://raw.githubusercontent.com/HedersonSantos/PredictFligthTicket/main/data/Test_set.csv"
      ],
      "metadata": {
        "colab": {
          "base_uri": "https://localhost:8080/"
        },
        "id": "18Nr0oZS7411",
        "outputId": "f156aed8-3205-489a-b29f-77a9b045f2c4"
      },
      "execution_count": 41,
      "outputs": [
        {
          "output_type": "stream",
          "name": "stdout",
          "text": [
            "--2023-02-25 19:36:10--  https://raw.githubusercontent.com/HedersonSantos/PredictFligthTicket/main/data/Data_Train.csv\n",
            "Resolving raw.githubusercontent.com (raw.githubusercontent.com)... 185.199.108.133, 185.199.109.133, 185.199.110.133, ...\n",
            "Connecting to raw.githubusercontent.com (raw.githubusercontent.com)|185.199.108.133|:443... connected.\n",
            "HTTP request sent, awaiting response... 200 OK\n",
            "Length: 1107157 (1.1M) [text/plain]\n",
            "Saving to: ‘Data_Train.csv’\n",
            "\n",
            "\rData_Train.csv        0%[                    ]       0  --.-KB/s               \rData_Train.csv      100%[===================>]   1.06M  --.-KB/s    in 0.04s   \n",
            "\n",
            "2023-02-25 19:36:10 (29.9 MB/s) - ‘Data_Train.csv’ saved [1107157/1107157]\n",
            "\n",
            "--2023-02-25 19:36:10--  https://raw.githubusercontent.com/HedersonSantos/PredictFligthTicket/main/data/Test_set.csv\n",
            "Resolving raw.githubusercontent.com (raw.githubusercontent.com)... 185.199.108.133, 185.199.109.133, 185.199.110.133, ...\n",
            "Connecting to raw.githubusercontent.com (raw.githubusercontent.com)|185.199.108.133|:443... connected.\n",
            "HTTP request sent, awaiting response... 200 OK\n",
            "Length: 261553 (255K) [text/plain]\n",
            "Saving to: ‘Test_set.csv’\n",
            "\n",
            "Test_set.csv        100%[===================>] 255.42K  --.-KB/s    in 0.02s   \n",
            "\n",
            "2023-02-25 19:36:10 (10.5 MB/s) - ‘Test_set.csv’ saved [261553/261553]\n",
            "\n"
          ]
        }
      ]
    },
    {
      "cell_type": "code",
      "source": [
        "!ls -la\n"
      ],
      "metadata": {
        "colab": {
          "base_uri": "https://localhost:8080/"
        },
        "id": "fktaApKw9v2t",
        "outputId": "d435f8f9-fcbd-44b2-b402-5728101ef822"
      },
      "execution_count": 42,
      "outputs": [
        {
          "output_type": "stream",
          "name": "stdout",
          "text": [
            "total 1356\n",
            "drwxr-xr-x 1 root root    4096 Feb 25 19:36 .\n",
            "drwxr-xr-x 1 root root    4096 Feb 25 18:56 ..\n",
            "drwxr-xr-x 4 root root    4096 Feb 23 14:37 .config\n",
            "-rw-r--r-- 1 root root 1107157 Feb 25 19:36 Data_Train.csv\n",
            "drwxr-xr-x 1 root root    4096 Feb 23 14:38 sample_data\n",
            "-rw-r--r-- 1 root root  261553 Feb 25 19:36 Test_set.csv\n"
          ]
        }
      ]
    },
    {
      "cell_type": "code",
      "source": [],
      "metadata": {
        "id": "AzX04sUnDS8I"
      },
      "execution_count": 35,
      "outputs": []
    },
    {
      "cell_type": "code",
      "source": [
        "dftrain= pd.read_csv(\"Data_Train.csv\", sep=\";\", header=0)\n",
        "dftest = pd.read_csv(\"Test_set.csv\", sep=\";\", header=0)\n"
      ],
      "metadata": {
        "id": "iRv2oQZe9n4O"
      },
      "execution_count": 46,
      "outputs": []
    },
    {
      "cell_type": "code",
      "source": [
        "dftrain.info()"
      ],
      "metadata": {
        "colab": {
          "base_uri": "https://localhost:8080/"
        },
        "id": "1LRwrRGmFPvH",
        "outputId": "16665f69-1d07-416f-f476-6be89c01cdee"
      },
      "execution_count": 47,
      "outputs": [
        {
          "output_type": "stream",
          "name": "stdout",
          "text": [
            "<class 'pandas.core.frame.DataFrame'>\n",
            "RangeIndex: 10683 entries, 0 to 10682\n",
            "Data columns (total 11 columns):\n",
            " #   Column           Non-Null Count  Dtype \n",
            "---  ------           --------------  ----- \n",
            " 0   Airline          10683 non-null  object\n",
            " 1   Date_of_Journey  10683 non-null  object\n",
            " 2   Source           10683 non-null  object\n",
            " 3   Destination      10683 non-null  object\n",
            " 4   Route            10682 non-null  object\n",
            " 5   Dep_Time         10683 non-null  object\n",
            " 6   Arrival_Time     10683 non-null  object\n",
            " 7   Duration         10683 non-null  object\n",
            " 8   Total_Stops      10682 non-null  object\n",
            " 9   Additional_Info  10683 non-null  object\n",
            " 10  Price            10683 non-null  int64 \n",
            "dtypes: int64(1), object(10)\n",
            "memory usage: 918.2+ KB\n"
          ]
        }
      ]
    },
    {
      "cell_type": "code",
      "source": [
        "dftrain.head(20)"
      ],
      "metadata": {
        "colab": {
          "base_uri": "https://localhost:8080/",
          "height": 894
        },
        "id": "bi5YFCO_FT8m",
        "outputId": "882cffa2-4fe3-4e77-b114-2822cbe2ae9b"
      },
      "execution_count": 48,
      "outputs": [
        {
          "output_type": "execute_result",
          "data": {
            "text/plain": [
              "              Airline Date_of_Journey    Source Destination  \\\n",
              "0              IndiGo      24/03/2019  Banglore   New Delhi   \n",
              "1           Air India       1/05/2019   Kolkata    Banglore   \n",
              "2         Jet Airways       9/06/2019     Delhi      Cochin   \n",
              "3              IndiGo      12/05/2019   Kolkata    Banglore   \n",
              "4              IndiGo      01/03/2019  Banglore   New Delhi   \n",
              "5            SpiceJet      24/06/2019   Kolkata    Banglore   \n",
              "6         Jet Airways      12/03/2019  Banglore   New Delhi   \n",
              "7         Jet Airways      01/03/2019  Banglore   New Delhi   \n",
              "8         Jet Airways      12/03/2019  Banglore   New Delhi   \n",
              "9   Multiple carriers      27/05/2019     Delhi      Cochin   \n",
              "10          Air India       1/06/2019     Delhi      Cochin   \n",
              "11             IndiGo      18/04/2019   Kolkata    Banglore   \n",
              "12          Air India      24/06/2019   Chennai     Kolkata   \n",
              "13        Jet Airways       9/05/2019   Kolkata    Banglore   \n",
              "14             IndiGo      24/04/2019   Kolkata    Banglore   \n",
              "15          Air India       3/03/2019     Delhi      Cochin   \n",
              "16           SpiceJet      15/04/2019     Delhi      Cochin   \n",
              "17        Jet Airways      12/06/2019     Delhi      Cochin   \n",
              "18          Air India      12/06/2019     Delhi      Cochin   \n",
              "19        Jet Airways      27/05/2019     Delhi      Cochin   \n",
              "\n",
              "                    Route Dep_Time  Arrival_Time Duration Total_Stops  \\\n",
              "0               BLR → DEL    22:20  01:10 22 Mar   2h 50m    non-stop   \n",
              "1   CCU → IXR → BBI → BLR    05:50         13:15   7h 25m     2 stops   \n",
              "2   DEL → LKO → BOM → COK    09:25  04:25 10 Jun      19h     2 stops   \n",
              "3         CCU → NAG → BLR    18:05         23:30   5h 25m      1 stop   \n",
              "4         BLR → NAG → DEL    16:50         21:35   4h 45m      1 stop   \n",
              "5               CCU → BLR    09:00         11:25   2h 25m    non-stop   \n",
              "6         BLR → BOM → DEL    18:55  10:25 13 Mar  15h 30m      1 stop   \n",
              "7         BLR → BOM → DEL    08:00  05:05 02 Mar   21h 5m      1 stop   \n",
              "8         BLR → BOM → DEL    08:55  10:25 13 Mar  25h 30m      1 stop   \n",
              "9         DEL → BOM → COK    11:25         19:15   7h 50m      1 stop   \n",
              "10        DEL → BLR → COK    09:45         23:00  13h 15m      1 stop   \n",
              "11              CCU → BLR    20:20         22:55   2h 35m    non-stop   \n",
              "12              MAA → CCU    11:40         13:55   2h 15m    non-stop   \n",
              "13        CCU → BOM → BLR    21:10  09:20 10 May  12h 10m      1 stop   \n",
              "14              CCU → BLR    17:15         19:50   2h 35m    non-stop   \n",
              "15  DEL → AMD → BOM → COK    16:40  19:15 04 Mar  26h 35m     2 stops   \n",
              "16        DEL → PNQ → COK    08:45         13:15   4h 30m      1 stop   \n",
              "17        DEL → BOM → COK    14:00  12:35 13 Jun  22h 35m      1 stop   \n",
              "18  DEL → CCU → BOM → COK    20:15  19:15 13 Jun      23h     2 stops   \n",
              "19        DEL → BOM → COK    16:00  12:35 28 May  20h 35m      1 stop   \n",
              "\n",
              "                Additional_Info  Price  \n",
              "0                       No info   3897  \n",
              "1                       No info   7662  \n",
              "2                       No info  13882  \n",
              "3                       No info   6218  \n",
              "4                       No info  13302  \n",
              "5                       No info   3873  \n",
              "6   In-flight meal not included  11087  \n",
              "7                       No info  22270  \n",
              "8   In-flight meal not included  11087  \n",
              "9                       No info   8625  \n",
              "10                      No info   8907  \n",
              "11                      No info   4174  \n",
              "12                      No info   4667  \n",
              "13  In-flight meal not included   9663  \n",
              "14                      No info   4804  \n",
              "15                      No info  14011  \n",
              "16                      No info   5830  \n",
              "17  In-flight meal not included  10262  \n",
              "18                      No info  13381  \n",
              "19  In-flight meal not included  12898  "
            ],
            "text/html": [
              "\n",
              "  <div id=\"df-7ea782ed-458f-48da-9332-1d58528918d8\">\n",
              "    <div class=\"colab-df-container\">\n",
              "      <div>\n",
              "<style scoped>\n",
              "    .dataframe tbody tr th:only-of-type {\n",
              "        vertical-align: middle;\n",
              "    }\n",
              "\n",
              "    .dataframe tbody tr th {\n",
              "        vertical-align: top;\n",
              "    }\n",
              "\n",
              "    .dataframe thead th {\n",
              "        text-align: right;\n",
              "    }\n",
              "</style>\n",
              "<table border=\"1\" class=\"dataframe\">\n",
              "  <thead>\n",
              "    <tr style=\"text-align: right;\">\n",
              "      <th></th>\n",
              "      <th>Airline</th>\n",
              "      <th>Date_of_Journey</th>\n",
              "      <th>Source</th>\n",
              "      <th>Destination</th>\n",
              "      <th>Route</th>\n",
              "      <th>Dep_Time</th>\n",
              "      <th>Arrival_Time</th>\n",
              "      <th>Duration</th>\n",
              "      <th>Total_Stops</th>\n",
              "      <th>Additional_Info</th>\n",
              "      <th>Price</th>\n",
              "    </tr>\n",
              "  </thead>\n",
              "  <tbody>\n",
              "    <tr>\n",
              "      <th>0</th>\n",
              "      <td>IndiGo</td>\n",
              "      <td>24/03/2019</td>\n",
              "      <td>Banglore</td>\n",
              "      <td>New Delhi</td>\n",
              "      <td>BLR → DEL</td>\n",
              "      <td>22:20</td>\n",
              "      <td>01:10 22 Mar</td>\n",
              "      <td>2h 50m</td>\n",
              "      <td>non-stop</td>\n",
              "      <td>No info</td>\n",
              "      <td>3897</td>\n",
              "    </tr>\n",
              "    <tr>\n",
              "      <th>1</th>\n",
              "      <td>Air India</td>\n",
              "      <td>1/05/2019</td>\n",
              "      <td>Kolkata</td>\n",
              "      <td>Banglore</td>\n",
              "      <td>CCU → IXR → BBI → BLR</td>\n",
              "      <td>05:50</td>\n",
              "      <td>13:15</td>\n",
              "      <td>7h 25m</td>\n",
              "      <td>2 stops</td>\n",
              "      <td>No info</td>\n",
              "      <td>7662</td>\n",
              "    </tr>\n",
              "    <tr>\n",
              "      <th>2</th>\n",
              "      <td>Jet Airways</td>\n",
              "      <td>9/06/2019</td>\n",
              "      <td>Delhi</td>\n",
              "      <td>Cochin</td>\n",
              "      <td>DEL → LKO → BOM → COK</td>\n",
              "      <td>09:25</td>\n",
              "      <td>04:25 10 Jun</td>\n",
              "      <td>19h</td>\n",
              "      <td>2 stops</td>\n",
              "      <td>No info</td>\n",
              "      <td>13882</td>\n",
              "    </tr>\n",
              "    <tr>\n",
              "      <th>3</th>\n",
              "      <td>IndiGo</td>\n",
              "      <td>12/05/2019</td>\n",
              "      <td>Kolkata</td>\n",
              "      <td>Banglore</td>\n",
              "      <td>CCU → NAG → BLR</td>\n",
              "      <td>18:05</td>\n",
              "      <td>23:30</td>\n",
              "      <td>5h 25m</td>\n",
              "      <td>1 stop</td>\n",
              "      <td>No info</td>\n",
              "      <td>6218</td>\n",
              "    </tr>\n",
              "    <tr>\n",
              "      <th>4</th>\n",
              "      <td>IndiGo</td>\n",
              "      <td>01/03/2019</td>\n",
              "      <td>Banglore</td>\n",
              "      <td>New Delhi</td>\n",
              "      <td>BLR → NAG → DEL</td>\n",
              "      <td>16:50</td>\n",
              "      <td>21:35</td>\n",
              "      <td>4h 45m</td>\n",
              "      <td>1 stop</td>\n",
              "      <td>No info</td>\n",
              "      <td>13302</td>\n",
              "    </tr>\n",
              "    <tr>\n",
              "      <th>5</th>\n",
              "      <td>SpiceJet</td>\n",
              "      <td>24/06/2019</td>\n",
              "      <td>Kolkata</td>\n",
              "      <td>Banglore</td>\n",
              "      <td>CCU → BLR</td>\n",
              "      <td>09:00</td>\n",
              "      <td>11:25</td>\n",
              "      <td>2h 25m</td>\n",
              "      <td>non-stop</td>\n",
              "      <td>No info</td>\n",
              "      <td>3873</td>\n",
              "    </tr>\n",
              "    <tr>\n",
              "      <th>6</th>\n",
              "      <td>Jet Airways</td>\n",
              "      <td>12/03/2019</td>\n",
              "      <td>Banglore</td>\n",
              "      <td>New Delhi</td>\n",
              "      <td>BLR → BOM → DEL</td>\n",
              "      <td>18:55</td>\n",
              "      <td>10:25 13 Mar</td>\n",
              "      <td>15h 30m</td>\n",
              "      <td>1 stop</td>\n",
              "      <td>In-flight meal not included</td>\n",
              "      <td>11087</td>\n",
              "    </tr>\n",
              "    <tr>\n",
              "      <th>7</th>\n",
              "      <td>Jet Airways</td>\n",
              "      <td>01/03/2019</td>\n",
              "      <td>Banglore</td>\n",
              "      <td>New Delhi</td>\n",
              "      <td>BLR → BOM → DEL</td>\n",
              "      <td>08:00</td>\n",
              "      <td>05:05 02 Mar</td>\n",
              "      <td>21h 5m</td>\n",
              "      <td>1 stop</td>\n",
              "      <td>No info</td>\n",
              "      <td>22270</td>\n",
              "    </tr>\n",
              "    <tr>\n",
              "      <th>8</th>\n",
              "      <td>Jet Airways</td>\n",
              "      <td>12/03/2019</td>\n",
              "      <td>Banglore</td>\n",
              "      <td>New Delhi</td>\n",
              "      <td>BLR → BOM → DEL</td>\n",
              "      <td>08:55</td>\n",
              "      <td>10:25 13 Mar</td>\n",
              "      <td>25h 30m</td>\n",
              "      <td>1 stop</td>\n",
              "      <td>In-flight meal not included</td>\n",
              "      <td>11087</td>\n",
              "    </tr>\n",
              "    <tr>\n",
              "      <th>9</th>\n",
              "      <td>Multiple carriers</td>\n",
              "      <td>27/05/2019</td>\n",
              "      <td>Delhi</td>\n",
              "      <td>Cochin</td>\n",
              "      <td>DEL → BOM → COK</td>\n",
              "      <td>11:25</td>\n",
              "      <td>19:15</td>\n",
              "      <td>7h 50m</td>\n",
              "      <td>1 stop</td>\n",
              "      <td>No info</td>\n",
              "      <td>8625</td>\n",
              "    </tr>\n",
              "    <tr>\n",
              "      <th>10</th>\n",
              "      <td>Air India</td>\n",
              "      <td>1/06/2019</td>\n",
              "      <td>Delhi</td>\n",
              "      <td>Cochin</td>\n",
              "      <td>DEL → BLR → COK</td>\n",
              "      <td>09:45</td>\n",
              "      <td>23:00</td>\n",
              "      <td>13h 15m</td>\n",
              "      <td>1 stop</td>\n",
              "      <td>No info</td>\n",
              "      <td>8907</td>\n",
              "    </tr>\n",
              "    <tr>\n",
              "      <th>11</th>\n",
              "      <td>IndiGo</td>\n",
              "      <td>18/04/2019</td>\n",
              "      <td>Kolkata</td>\n",
              "      <td>Banglore</td>\n",
              "      <td>CCU → BLR</td>\n",
              "      <td>20:20</td>\n",
              "      <td>22:55</td>\n",
              "      <td>2h 35m</td>\n",
              "      <td>non-stop</td>\n",
              "      <td>No info</td>\n",
              "      <td>4174</td>\n",
              "    </tr>\n",
              "    <tr>\n",
              "      <th>12</th>\n",
              "      <td>Air India</td>\n",
              "      <td>24/06/2019</td>\n",
              "      <td>Chennai</td>\n",
              "      <td>Kolkata</td>\n",
              "      <td>MAA → CCU</td>\n",
              "      <td>11:40</td>\n",
              "      <td>13:55</td>\n",
              "      <td>2h 15m</td>\n",
              "      <td>non-stop</td>\n",
              "      <td>No info</td>\n",
              "      <td>4667</td>\n",
              "    </tr>\n",
              "    <tr>\n",
              "      <th>13</th>\n",
              "      <td>Jet Airways</td>\n",
              "      <td>9/05/2019</td>\n",
              "      <td>Kolkata</td>\n",
              "      <td>Banglore</td>\n",
              "      <td>CCU → BOM → BLR</td>\n",
              "      <td>21:10</td>\n",
              "      <td>09:20 10 May</td>\n",
              "      <td>12h 10m</td>\n",
              "      <td>1 stop</td>\n",
              "      <td>In-flight meal not included</td>\n",
              "      <td>9663</td>\n",
              "    </tr>\n",
              "    <tr>\n",
              "      <th>14</th>\n",
              "      <td>IndiGo</td>\n",
              "      <td>24/04/2019</td>\n",
              "      <td>Kolkata</td>\n",
              "      <td>Banglore</td>\n",
              "      <td>CCU → BLR</td>\n",
              "      <td>17:15</td>\n",
              "      <td>19:50</td>\n",
              "      <td>2h 35m</td>\n",
              "      <td>non-stop</td>\n",
              "      <td>No info</td>\n",
              "      <td>4804</td>\n",
              "    </tr>\n",
              "    <tr>\n",
              "      <th>15</th>\n",
              "      <td>Air India</td>\n",
              "      <td>3/03/2019</td>\n",
              "      <td>Delhi</td>\n",
              "      <td>Cochin</td>\n",
              "      <td>DEL → AMD → BOM → COK</td>\n",
              "      <td>16:40</td>\n",
              "      <td>19:15 04 Mar</td>\n",
              "      <td>26h 35m</td>\n",
              "      <td>2 stops</td>\n",
              "      <td>No info</td>\n",
              "      <td>14011</td>\n",
              "    </tr>\n",
              "    <tr>\n",
              "      <th>16</th>\n",
              "      <td>SpiceJet</td>\n",
              "      <td>15/04/2019</td>\n",
              "      <td>Delhi</td>\n",
              "      <td>Cochin</td>\n",
              "      <td>DEL → PNQ → COK</td>\n",
              "      <td>08:45</td>\n",
              "      <td>13:15</td>\n",
              "      <td>4h 30m</td>\n",
              "      <td>1 stop</td>\n",
              "      <td>No info</td>\n",
              "      <td>5830</td>\n",
              "    </tr>\n",
              "    <tr>\n",
              "      <th>17</th>\n",
              "      <td>Jet Airways</td>\n",
              "      <td>12/06/2019</td>\n",
              "      <td>Delhi</td>\n",
              "      <td>Cochin</td>\n",
              "      <td>DEL → BOM → COK</td>\n",
              "      <td>14:00</td>\n",
              "      <td>12:35 13 Jun</td>\n",
              "      <td>22h 35m</td>\n",
              "      <td>1 stop</td>\n",
              "      <td>In-flight meal not included</td>\n",
              "      <td>10262</td>\n",
              "    </tr>\n",
              "    <tr>\n",
              "      <th>18</th>\n",
              "      <td>Air India</td>\n",
              "      <td>12/06/2019</td>\n",
              "      <td>Delhi</td>\n",
              "      <td>Cochin</td>\n",
              "      <td>DEL → CCU → BOM → COK</td>\n",
              "      <td>20:15</td>\n",
              "      <td>19:15 13 Jun</td>\n",
              "      <td>23h</td>\n",
              "      <td>2 stops</td>\n",
              "      <td>No info</td>\n",
              "      <td>13381</td>\n",
              "    </tr>\n",
              "    <tr>\n",
              "      <th>19</th>\n",
              "      <td>Jet Airways</td>\n",
              "      <td>27/05/2019</td>\n",
              "      <td>Delhi</td>\n",
              "      <td>Cochin</td>\n",
              "      <td>DEL → BOM → COK</td>\n",
              "      <td>16:00</td>\n",
              "      <td>12:35 28 May</td>\n",
              "      <td>20h 35m</td>\n",
              "      <td>1 stop</td>\n",
              "      <td>In-flight meal not included</td>\n",
              "      <td>12898</td>\n",
              "    </tr>\n",
              "  </tbody>\n",
              "</table>\n",
              "</div>\n",
              "      <button class=\"colab-df-convert\" onclick=\"convertToInteractive('df-7ea782ed-458f-48da-9332-1d58528918d8')\"\n",
              "              title=\"Convert this dataframe to an interactive table.\"\n",
              "              style=\"display:none;\">\n",
              "        \n",
              "  <svg xmlns=\"http://www.w3.org/2000/svg\" height=\"24px\"viewBox=\"0 0 24 24\"\n",
              "       width=\"24px\">\n",
              "    <path d=\"M0 0h24v24H0V0z\" fill=\"none\"/>\n",
              "    <path d=\"M18.56 5.44l.94 2.06.94-2.06 2.06-.94-2.06-.94-.94-2.06-.94 2.06-2.06.94zm-11 1L8.5 8.5l.94-2.06 2.06-.94-2.06-.94L8.5 2.5l-.94 2.06-2.06.94zm10 10l.94 2.06.94-2.06 2.06-.94-2.06-.94-.94-2.06-.94 2.06-2.06.94z\"/><path d=\"M17.41 7.96l-1.37-1.37c-.4-.4-.92-.59-1.43-.59-.52 0-1.04.2-1.43.59L10.3 9.45l-7.72 7.72c-.78.78-.78 2.05 0 2.83L4 21.41c.39.39.9.59 1.41.59.51 0 1.02-.2 1.41-.59l7.78-7.78 2.81-2.81c.8-.78.8-2.07 0-2.86zM5.41 20L4 18.59l7.72-7.72 1.47 1.35L5.41 20z\"/>\n",
              "  </svg>\n",
              "      </button>\n",
              "      \n",
              "  <style>\n",
              "    .colab-df-container {\n",
              "      display:flex;\n",
              "      flex-wrap:wrap;\n",
              "      gap: 12px;\n",
              "    }\n",
              "\n",
              "    .colab-df-convert {\n",
              "      background-color: #E8F0FE;\n",
              "      border: none;\n",
              "      border-radius: 50%;\n",
              "      cursor: pointer;\n",
              "      display: none;\n",
              "      fill: #1967D2;\n",
              "      height: 32px;\n",
              "      padding: 0 0 0 0;\n",
              "      width: 32px;\n",
              "    }\n",
              "\n",
              "    .colab-df-convert:hover {\n",
              "      background-color: #E2EBFA;\n",
              "      box-shadow: 0px 1px 2px rgba(60, 64, 67, 0.3), 0px 1px 3px 1px rgba(60, 64, 67, 0.15);\n",
              "      fill: #174EA6;\n",
              "    }\n",
              "\n",
              "    [theme=dark] .colab-df-convert {\n",
              "      background-color: #3B4455;\n",
              "      fill: #D2E3FC;\n",
              "    }\n",
              "\n",
              "    [theme=dark] .colab-df-convert:hover {\n",
              "      background-color: #434B5C;\n",
              "      box-shadow: 0px 1px 3px 1px rgba(0, 0, 0, 0.15);\n",
              "      filter: drop-shadow(0px 1px 2px rgba(0, 0, 0, 0.3));\n",
              "      fill: #FFFFFF;\n",
              "    }\n",
              "  </style>\n",
              "\n",
              "      <script>\n",
              "        const buttonEl =\n",
              "          document.querySelector('#df-7ea782ed-458f-48da-9332-1d58528918d8 button.colab-df-convert');\n",
              "        buttonEl.style.display =\n",
              "          google.colab.kernel.accessAllowed ? 'block' : 'none';\n",
              "\n",
              "        async function convertToInteractive(key) {\n",
              "          const element = document.querySelector('#df-7ea782ed-458f-48da-9332-1d58528918d8');\n",
              "          const dataTable =\n",
              "            await google.colab.kernel.invokeFunction('convertToInteractive',\n",
              "                                                     [key], {});\n",
              "          if (!dataTable) return;\n",
              "\n",
              "          const docLinkHtml = 'Like what you see? Visit the ' +\n",
              "            '<a target=\"_blank\" href=https://colab.research.google.com/notebooks/data_table.ipynb>data table notebook</a>'\n",
              "            + ' to learn more about interactive tables.';\n",
              "          element.innerHTML = '';\n",
              "          dataTable['output_type'] = 'display_data';\n",
              "          await google.colab.output.renderOutput(dataTable, element);\n",
              "          const docLink = document.createElement('div');\n",
              "          docLink.innerHTML = docLinkHtml;\n",
              "          element.appendChild(docLink);\n",
              "        }\n",
              "      </script>\n",
              "    </div>\n",
              "  </div>\n",
              "  "
            ]
          },
          "metadata": {},
          "execution_count": 48
        }
      ]
    },
    {
      "cell_type": "code",
      "source": [
        "def graficoFrequencia(coluna, df_dados):\n",
        "  if type(coluna)==list:\n",
        "    column=coluna\n",
        "  else:\n",
        "    column=[coluna]\n",
        "  df = df_dados[column].value_counts().reset_index().rename(columns={0:'qtd_registros'})\n",
        "  fig, ax =plt.subplots(figsize=(18, 8), sharex=True)\n",
        "  for c in column:\n",
        "    sns.barplot(x=c,y='qtd_registros', data=df,orient='v', ax = ax).set_title(f\"distribuição da variável {c}\")\n",
        "  for bar in ax.patches:\n",
        "    ax.annotate(format(bar.get_height(),'.0f'),\n",
        "                    (bar.get_x() + bar.get_width() / 2,\n",
        "                      bar.get_height()), ha='center', va='center',\n",
        "                    size=10, xytext=(0, 8),\n",
        "                    textcoords='offset points')\n",
        "  for item in ax.get_xticklabels():\n",
        "      item.set_rotation(90)"
      ],
      "metadata": {
        "id": "gOLlvIxkFyxZ"
      },
      "execution_count": 87,
      "outputs": []
    },
    {
      "cell_type": "code",
      "source": [
        "graficoFrequencia('Airline', dftrain)"
      ],
      "metadata": {
        "colab": {
          "base_uri": "https://localhost:8080/",
          "height": 705
        },
        "id": "cDV8Ayn2IvLQ",
        "outputId": "07b288d8-a365-46b9-ab37-b4bd8c84e5b2"
      },
      "execution_count": 88,
      "outputs": [
        {
          "output_type": "display_data",
          "data": {
            "text/plain": [
              "<Figure size 1296x576 with 1 Axes>"
            ],
            "image/png": "[encoded data removed]"
          },
          "metadata": {}
        }
      ]
    },
    {
      "cell_type": "code",
      "source": [
        "dftrain[\"Journey_date\"] = pd.to_datetime(dftrain[\"Date_of_Journey\"])\n",
        "graficoFrequencia(\"Journey_date\", dftrain)"
      ],
      "metadata": {
        "colab": {
          "base_uri": "https://localhost:8080/",
          "height": 695
        },
        "id": "iF1GaT2ZJD2R",
        "outputId": "8dcf3aa2-dd9c-4a74-9dcf-70c7b497077e"
      },
      "execution_count": 89,
      "outputs": [
        {
          "output_type": "display_data",
          "data": {
            "text/plain": [
              "<Figure size 1296x576 with 1 Axes>"
            ],
            "image/png": "[encoded data removed]"
          },
          "metadata": {}
        }
      ]
    },
    {
      "cell_type": "code",
      "source": [
        "dftrain[[\"Source\",\"Destination\"]].value_counts().reset_index().rename(columns={0:'qtd_registros'})"
      ],
      "metadata": {
        "colab": {
          "base_uri": "https://localhost:8080/",
          "height": 238
        },
        "id": "-RzkbM39Lgsg",
        "outputId": "14582762-af93-4e36-af0b-c8b214c219d9"
      },
      "execution_count": 93,
      "outputs": [
        {
          "output_type": "execute_result",
          "data": {
            "text/plain": [
              "     Source Destination  qtd_registros\n",
              "0     Delhi      Cochin           4537\n",
              "1   Kolkata    Banglore           2871\n",
              "2  Banglore       Delhi           1265\n",
              "3  Banglore   New Delhi            932\n",
              "4    Mumbai   Hyderabad            697\n",
              "5   Chennai     Kolkata            381"
            ],
            "text/html": [
              "\n",
              "  <div id=\"df-78146497-73fa-4c63-9758-5b5c44c3458d\">\n",
              "    <div class=\"colab-df-container\">\n",
              "      <div>\n",
              "<style scoped>\n",
              "    .dataframe tbody tr th:only-of-type {\n",
              "        vertical-align: middle;\n",
              "    }\n",
              "\n",
              "    .dataframe tbody tr th {\n",
              "        vertical-align: top;\n",
              "    }\n",
              "\n",
              "    .dataframe thead th {\n",
              "        text-align: right;\n",
              "    }\n",
              "</style>\n",
              "<table border=\"1\" class=\"dataframe\">\n",
              "  <thead>\n",
              "    <tr style=\"text-align: right;\">\n",
              "      <th></th>\n",
              "      <th>Source</th>\n",
              "      <th>Destination</th>\n",
              "      <th>qtd_registros</th>\n",
              "    </tr>\n",
              "  </thead>\n",
              "  <tbody>\n",
              "    <tr>\n",
              "      <th>0</th>\n",
              "      <td>Delhi</td>\n",
              "      <td>Cochin</td>\n",
              "      <td>4537</td>\n",
              "    </tr>\n",
              "    <tr>\n",
              "      <th>1</th>\n",
              "      <td>Kolkata</td>\n",
              "      <td>Banglore</td>\n",
              "      <td>2871</td>\n",
              "    </tr>\n",
              "    <tr>\n",
              "      <th>2</th>\n",
              "      <td>Banglore</td>\n",
              "      <td>Delhi</td>\n",
              "      <td>1265</td>\n",
              "    </tr>\n",
              "    <tr>\n",
              "      <th>3</th>\n",
              "      <td>Banglore</td>\n",
              "      <td>New Delhi</td>\n",
              "      <td>932</td>\n",
              "    </tr>\n",
              "    <tr>\n",
              "      <th>4</th>\n",
              "      <td>Mumbai</td>\n",
              "      <td>Hyderabad</td>\n",
              "      <td>697</td>\n",
              "    </tr>\n",
              "    <tr>\n",
              "      <th>5</th>\n",
              "      <td>Chennai</td>\n",
              "      <td>Kolkata</td>\n",
              "      <td>381</td>\n",
              "    </tr>\n",
              "  </tbody>\n",
              "</table>\n",
              "</div>\n",
              "      <button class=\"colab-df-convert\" onclick=\"convertToInteractive('df-78146497-73fa-4c63-9758-5b5c44c3458d')\"\n",
              "              title=\"Convert this dataframe to an interactive table.\"\n",
              "              style=\"display:none;\">\n",
              "        \n",
              "  <svg xmlns=\"http://www.w3.org/2000/svg\" height=\"24px\"viewBox=\"0 0 24 24\"\n",
              "       width=\"24px\">\n",
              "    <path d=\"M0 0h24v24H0V0z\" fill=\"none\"/>\n",
              "    <path d=\"M18.56 5.44l.94 2.06.94-2.06 2.06-.94-2.06-.94-.94-2.06-.94 2.06-2.06.94zm-11 1L8.5 8.5l.94-2.06 2.06-.94-2.06-.94L8.5 2.5l-.94 2.06-2.06.94zm10 10l.94 2.06.94-2.06 2.06-.94-2.06-.94-.94-2.06-.94 2.06-2.06.94z\"/><path d=\"M17.41 7.96l-1.37-1.37c-.4-.4-.92-.59-1.43-.59-.52 0-1.04.2-1.43.59L10.3 9.45l-7.72 7.72c-.78.78-.78 2.05 0 2.83L4 21.41c.39.39.9.59 1.41.59.51 0 1.02-.2 1.41-.59l7.78-7.78 2.81-2.81c.8-.78.8-2.07 0-2.86zM5.41 20L4 18.59l7.72-7.72 1.47 1.35L5.41 20z\"/>\n",
              "  </svg>\n",
              "      </button>\n",
              "      \n",
              "  <style>\n",
              "    .colab-df-container {\n",
              "      display:flex;\n",
              "      flex-wrap:wrap;\n",
              "      gap: 12px;\n",
              "    }\n",
              "\n",
              "    .colab-df-convert {\n",
              "      background-color: #E8F0FE;\n",
              "      border: none;\n",
              "      border-radius: 50%;\n",
              "      cursor: pointer;\n",
              "      display: none;\n",
              "      fill: #1967D2;\n",
              "      height: 32px;\n",
              "      padding: 0 0 0 0;\n",
              "      width: 32px;\n",
              "    }\n",
              "\n",
              "    .colab-df-convert:hover {\n",
              "      background-color: #E2EBFA;\n",
              "      box-shadow: 0px 1px 2px rgba(60, 64, 67, 0.3), 0px 1px 3px 1px rgba(60, 64, 67, 0.15);\n",
              "      fill: #174EA6;\n",
              "    }\n",
              "\n",
              "    [theme=dark] .colab-df-convert {\n",
              "      background-color: #3B4455;\n",
              "      fill: #D2E3FC;\n",
              "    }\n",
              "\n",
              "    [theme=dark] .colab-df-convert:hover {\n",
              "      background-color: #434B5C;\n",
              "      box-shadow: 0px 1px 3px 1px rgba(0, 0, 0, 0.15);\n",
              "      filter: drop-shadow(0px 1px 2px rgba(0, 0, 0, 0.3));\n",
              "      fill: #FFFFFF;\n",
              "    }\n",
              "  </style>\n",
              "\n",
              "      <script>\n",
              "        const buttonEl =\n",
              "          document.querySelector('#df-78146497-73fa-4c63-9758-5b5c44c3458d button.colab-df-convert');\n",
              "        buttonEl.style.display =\n",
              "          google.colab.kernel.accessAllowed ? 'block' : 'none';\n",
              "\n",
              "        async function convertToInteractive(key) {\n",
              "          const element = document.querySelector('#df-78146497-73fa-4c63-9758-5b5c44c3458d');\n",
              "          const dataTable =\n",
              "            await google.colab.kernel.invokeFunction('convertToInteractive',\n",
              "                                                     [key], {});\n",
              "          if (!dataTable) return;\n",
              "\n",
              "          const docLinkHtml = 'Like what you see? Visit the ' +\n",
              "            '<a target=\"_blank\" href=https://colab.research.google.com/notebooks/data_table.ipynb>data table notebook</a>'\n",
              "            + ' to learn more about interactive tables.';\n",
              "          element.innerHTML = '';\n",
              "          dataTable['output_type'] = 'display_data';\n",
              "          await google.colab.output.renderOutput(dataTable, element);\n",
              "          const docLink = document.createElement('div');\n",
              "          docLink.innerHTML = docLinkHtml;\n",
              "          element.appendChild(docLink);\n",
              "        }\n",
              "      </script>\n",
              "    </div>\n",
              "  </div>\n",
              "  "
            ]
          },
          "metadata": {},
          "execution_count": 93
        }
      ]
    },
    {
      "cell_type": "code",
      "source": [
        "def get_latitude(city_name):\n",
        "  if city_name=='Banglore':\n",
        "    return  [13.1989, 77.7068]\n",
        "  elif city_name=='Chennai':\n",
        "    return  [12.9941, 80.1709]   \n",
        "  elif city_name=='Cochin':\n",
        "    return  [10.1518, 76.3930]\n",
        "  elif city_name in ['Delhi', 'New Delhi']:\n",
        "    return [28.5562, 77.1000]\n",
        "  elif city_name=='Hyderabad':\n",
        "    return [17.2403, 78.4294] \n",
        "  elif city_name == 'Kolkata':\n",
        "    return [22.5726, 88.3639]\n",
        "  elif city_name == 'Mumbai':\n",
        "    return [19.0904, 72.8628]\n",
        "  else:\n",
        "    return [0.0, 0.0]\n",
        "\n",
        "\n",
        "dftrain['source_latitude']=dftrain[\"Source\"].apply(lambda x: get_latitude(x)[0] )\n",
        "dftrain['source_longitude']=dftrain[\"Source\"].apply(lambda x: get_latitude(x)[1] )\n",
        "dftrain['destination_latitude']=dftrain[\"Destination\"].apply(lambda x: get_latitude(x)[0] )\n",
        "dftrain['destination_longitude']=dftrain[\"Destination\"].apply(lambda x: get_latitude(x)[1] )\n"
      ],
      "metadata": {
        "id": "w_7xtcA2SCRR"
      },
      "execution_count": 123,
      "outputs": []
    },
    {
      "cell_type": "code",
      "source": [
        "def rush_time(hour:int):\n",
        "  if hour >= 0  and hour<=5:\n",
        "    return 0\n",
        "  elif hour >=6 and hour<=9:\n",
        "    return 1 \n",
        "  elif hour >= 10 and hour<=16:\n",
        "    return 0\n",
        "  elif hour >= 17 and hour<=20:\n",
        "    return 1\n",
        "  else:\n",
        "    return 0\n",
        "\n",
        "dftrain['rush_time']=dftrain['Dep_Time'].apply(lambda x: rush_time(int(x.split(':')[0])))"
      ],
      "metadata": {
        "id": "6_xQZQ7iYxw5"
      },
      "execution_count": 127,
      "outputs": []
    },
    {
      "cell_type": "code",
      "source": [
        "def get_duration_in_hours(duration):\n",
        "  hour_minute = duration.split(' ')\n",
        "  if len(hour_minute)==2:\n",
        "    hour=int(hour_minute[0].replace('h',''))\n",
        "    minute=int(hour_minute[1].replace('m',''))\n",
        "  else:\n",
        "    if 'h' in hour_minute[0]:\n",
        "      hour=int(hour_minute[0].replace('h',''))\n",
        "      minute=0\n",
        "    else:\n",
        "      minute=int(hour_minute[0].replace('m',''))\n",
        "      hour=0\n",
        "  return hour+minute/60\n",
        "\n",
        "\n",
        "dftrain['Duration_in_hours']=dftrain['Duration'].apply(lambda x: get_duration_in_hours(x))"
      ],
      "metadata": {
        "id": "xuhouVdsayBZ"
      },
      "execution_count": 131,
      "outputs": []
    },
    {
      "cell_type": "code",
      "source": [
        "def get_total_stops(total_stops_text):\n",
        "  if (total_stops_text==None) or (total_stops_text=='non-stop') or (total_stops_text=='None'):\n",
        "     return 0\n",
        "  else:\n",
        "    return int(total_stops_text.split(\" \")[0])\n",
        "\n",
        "dftrain = dftrain.astype(object).replace(np.nan, 'None')\n",
        "dftrain['Qt_Total_Stops'] = dftrain['Total_Stops'].apply(lambda x: get_total_stops(x))\n"
      ],
      "metadata": {
        "id": "t6J0l9l_crMq"
      },
      "execution_count": 164,
      "outputs": []
    },
    {
      "cell_type": "code",
      "source": [
        "def graficocomPreco(coluna, df_dados):\n",
        "  if type(coluna)==list:\n",
        "    column=coluna\n",
        "  else:\n",
        "    column=[coluna]\n",
        "  if 'Price' not in (column):\n",
        "    column_price = column.copy()\n",
        "    column_price.append('Price')\n",
        "  df = df_dados[column_price].groupby(column)['Price'].median().reset_index()\n",
        "  fig, ax =plt.subplots(figsize=(18, 8), sharex=True)\n",
        "  for c in column:\n",
        "    print('3')\n",
        "    if c!=\"Price\":\n",
        "      sns.barplot(x=c,y='Price', data=df,orient='v', ax = ax).set_title(f\"distribuição da variável {c}\")\n",
        "  for bar in ax.patches:\n",
        "    ax.annotate(format(bar.get_height(),'.0f'),\n",
        "                    (bar.get_x() + bar.get_width() / 2,\n",
        "                      bar.get_height()), ha='center', va='center',\n",
        "                    size=10, xytext=(0, 8),\n",
        "                    textcoords='offset points')\n",
        "  for item in ax.get_xticklabels():\n",
        "      item.set_rotation(90)\n"
      ],
      "metadata": {
        "id": "1IXLdTa-iFWZ"
      },
      "execution_count": 224,
      "outputs": []
    },
    {
      "cell_type": "code",
      "source": [
        "graficocomPreco('Additional_Info',dftrain)"
      ],
      "metadata": {
        "colab": {
          "base_uri": "https://localhost:8080/",
          "height": 693
        },
        "id": "G44-C-_ekjyD",
        "outputId": "a501dfc1-573c-4569-86f6-ccf609e591ee"
      },
      "execution_count": 225,
      "outputs": [
        {
          "output_type": "stream",
          "name": "stdout",
          "text": [
            "3\n"
          ]
        },
        {
          "output_type": "display_data",
          "data": {
            "text/plain": [
              "<Figure size 1296x576 with 1 Axes>"
            ],
            "image/png": "[encoded data removed]"
          },
          "metadata": {}
        }
      ]
    },
    {
      "cell_type": "code",
      "source": [
        "additional_info = dftrain['Additional_Info'].unique().tolist()\n",
        "additional_info = [info for info in additional_info if info not in ['No info','No Info']]\n",
        "additional_info\n",
        "for info in additional_info:\n",
        "  dftrain[info] =  dftrain['Additional_Info'].apply(lambda x: 1 if x==info else 0)\n"
      ],
      "metadata": {
        "id": "zbeZmooJk0Ap"
      },
      "execution_count": 196,
      "outputs": []
    },
    {
      "cell_type": "code",
      "source": [
        "dftrain.columns"
      ],
      "metadata": {
        "colab": {
          "base_uri": "https://localhost:8080/"
        },
        "id": "dlUNp5Q_vWiL",
        "outputId": "0ee0d843-2d4b-48cc-929b-323409884458"
      },
      "execution_count": 200,
      "outputs": [
        {
          "output_type": "execute_result",
          "data": {
            "text/plain": [
              "Index(['Airline', 'Date_of_Journey', 'Source', 'Destination', 'Route',\n",
              "       'Dep_Time', 'Arrival_Time', 'Duration', 'Total_Stops',\n",
              "       'Additional_Info', 'Price', 'Journey_date', 'source_latitude',\n",
              "       'source_longitude', 'destination_latitude', 'destination_longitude',\n",
              "       'rush_time', 'Duration_in_hours', 'Qt_Total_Stops',\n",
              "       'In-flight meal not included', 'No check-in baggage included',\n",
              "       '1 Short layover', '1 Long layover', 'Change airports',\n",
              "       'Business class', 'Red-eye flight', '2 Long layover'],\n",
              "      dtype='object')"
            ]
          },
          "metadata": {},
          "execution_count": 200
        }
      ]
    },
    {
      "cell_type": "code",
      "source": [
        "graficocomPreco('Airline',dftrain)"
      ],
      "metadata": {
        "colab": {
          "base_uri": "https://localhost:8080/",
          "height": 311
        },
        "id": "_DvnRCsGvW5s",
        "outputId": "9bad772f-f015-419b-d832-8c09f2fc60d4"
      },
      "execution_count": 201,
      "outputs": [
        {
          "output_type": "error",
          "ename": "KeyError",
          "evalue": "ignored",
          "traceback": [
            "\u001b[0;31m---------------------------------------------------------------------------\u001b[0m",
            "\u001b[0;31mKeyError\u001b[0m                                  Traceback (most recent call last)",
            "\u001b[0;32m<ipython-input-201-6abde88f0461>\u001b[0m in \u001b[0;36m<module>\u001b[0;34m\u001b[0m\n\u001b[0;32m----> 1\u001b[0;31m \u001b[0mgraficocomPreco\u001b[0m\u001b[0;34m(\u001b[0m\u001b[0;34m'Airline'\u001b[0m\u001b[0;34m,\u001b[0m\u001b[0mdftrain\u001b[0m\u001b[0;34m)\u001b[0m\u001b[0;34m\u001b[0m\u001b[0;34m\u001b[0m\u001b[0m\n\u001b[0m",
            "\u001b[0;32m<ipython-input-187-7c94b2b9ac8d>\u001b[0m in \u001b[0;36mgraficocomPreco\u001b[0;34m(coluna, df_dados)\u001b[0m\n\u001b[1;32m      6\u001b[0m   \u001b[0;32mif\u001b[0m \u001b[0;34m'Price'\u001b[0m \u001b[0;32mnot\u001b[0m \u001b[0;32min\u001b[0m \u001b[0;34m(\u001b[0m\u001b[0mcolumn\u001b[0m\u001b[0;34m)\u001b[0m\u001b[0;34m:\u001b[0m\u001b[0;34m\u001b[0m\u001b[0;34m\u001b[0m\u001b[0m\n\u001b[1;32m      7\u001b[0m     \u001b[0mcolumn\u001b[0m\u001b[0;34m.\u001b[0m\u001b[0mappend\u001b[0m\u001b[0;34m(\u001b[0m\u001b[0;34m'Price'\u001b[0m\u001b[0;34m)\u001b[0m\u001b[0;34m\u001b[0m\u001b[0;34m\u001b[0m\u001b[0m\n\u001b[0;32m----> 8\u001b[0;31m   \u001b[0mdf\u001b[0m \u001b[0;34m=\u001b[0m \u001b[0mdf_dados\u001b[0m\u001b[0;34m[\u001b[0m\u001b[0mcolumn\u001b[0m\u001b[0;34m]\u001b[0m\u001b[0;34m.\u001b[0m\u001b[0mgroupby\u001b[0m\u001b[0;34m(\u001b[0m\u001b[0;34m[\u001b[0m\u001b[0;34m'Additional_Info'\u001b[0m\u001b[0;34m]\u001b[0m\u001b[0;34m)\u001b[0m\u001b[0;34m[\u001b[0m\u001b[0;34m'Price'\u001b[0m\u001b[0;34m]\u001b[0m\u001b[0;34m.\u001b[0m\u001b[0mmedian\u001b[0m\u001b[0;34m(\u001b[0m\u001b[0;34m)\u001b[0m\u001b[0;34m.\u001b[0m\u001b[0mreset_index\u001b[0m\u001b[0;34m(\u001b[0m\u001b[0;34m)\u001b[0m\u001b[0;34m\u001b[0m\u001b[0;34m\u001b[0m\u001b[0m\n\u001b[0m\u001b[1;32m      9\u001b[0m   \u001b[0mfig\u001b[0m\u001b[0;34m,\u001b[0m \u001b[0max\u001b[0m \u001b[0;34m=\u001b[0m\u001b[0mplt\u001b[0m\u001b[0;34m.\u001b[0m\u001b[0msubplots\u001b[0m\u001b[0;34m(\u001b[0m\u001b[0mfigsize\u001b[0m\u001b[0;34m=\u001b[0m\u001b[0;34m(\u001b[0m\u001b[0;36m18\u001b[0m\u001b[0;34m,\u001b[0m \u001b[0;36m8\u001b[0m\u001b[0;34m)\u001b[0m\u001b[0;34m,\u001b[0m \u001b[0msharex\u001b[0m\u001b[0;34m=\u001b[0m\u001b[0;32mTrue\u001b[0m\u001b[0;34m)\u001b[0m\u001b[0;34m\u001b[0m\u001b[0;34m\u001b[0m\u001b[0m\n\u001b[1;32m     10\u001b[0m   \u001b[0;32mfor\u001b[0m \u001b[0mc\u001b[0m \u001b[0;32min\u001b[0m \u001b[0mcolumn\u001b[0m\u001b[0;34m:\u001b[0m\u001b[0;34m\u001b[0m\u001b[0;34m\u001b[0m\u001b[0m\n",
            "\u001b[0;32m/usr/local/lib/python3.8/dist-packages/pandas/core/frame.py\u001b[0m in \u001b[0;36mgroupby\u001b[0;34m(self, by, axis, level, as_index, sort, group_keys, squeeze, observed, dropna)\u001b[0m\n\u001b[1;32m   7629\u001b[0m         \u001b[0;31m# error: Argument \"squeeze\" to \"DataFrameGroupBy\" has incompatible type\u001b[0m\u001b[0;34m\u001b[0m\u001b[0;34m\u001b[0m\u001b[0;34m\u001b[0m\u001b[0m\n\u001b[1;32m   7630\u001b[0m         \u001b[0;31m# \"Union[bool, NoDefault]\"; expected \"bool\"\u001b[0m\u001b[0;34m\u001b[0m\u001b[0;34m\u001b[0m\u001b[0;34m\u001b[0m\u001b[0m\n\u001b[0;32m-> 7631\u001b[0;31m         return DataFrameGroupBy(\n\u001b[0m\u001b[1;32m   7632\u001b[0m             \u001b[0mobj\u001b[0m\u001b[0;34m=\u001b[0m\u001b[0mself\u001b[0m\u001b[0;34m,\u001b[0m\u001b[0;34m\u001b[0m\u001b[0;34m\u001b[0m\u001b[0m\n\u001b[1;32m   7633\u001b[0m             \u001b[0mkeys\u001b[0m\u001b[0;34m=\u001b[0m\u001b[0mby\u001b[0m\u001b[0;34m,\u001b[0m\u001b[0;34m\u001b[0m\u001b[0;34m\u001b[0m\u001b[0m\n",
            "\u001b[0;32m/usr/local/lib/python3.8/dist-packages/pandas/core/groupby/groupby.py\u001b[0m in \u001b[0;36m__init__\u001b[0;34m(self, obj, keys, axis, level, grouper, exclusions, selection, as_index, sort, group_keys, squeeze, observed, mutated, dropna)\u001b[0m\n\u001b[1;32m    887\u001b[0m             \u001b[0;32mfrom\u001b[0m \u001b[0mpandas\u001b[0m\u001b[0;34m.\u001b[0m\u001b[0mcore\u001b[0m\u001b[0;34m.\u001b[0m\u001b[0mgroupby\u001b[0m\u001b[0;34m.\u001b[0m\u001b[0mgrouper\u001b[0m \u001b[0;32mimport\u001b[0m \u001b[0mget_grouper\u001b[0m\u001b[0;34m\u001b[0m\u001b[0;34m\u001b[0m\u001b[0m\n\u001b[1;32m    888\u001b[0m \u001b[0;34m\u001b[0m\u001b[0m\n\u001b[0;32m--> 889\u001b[0;31m             grouper, exclusions, obj = get_grouper(\n\u001b[0m\u001b[1;32m    890\u001b[0m                 \u001b[0mobj\u001b[0m\u001b[0;34m,\u001b[0m\u001b[0;34m\u001b[0m\u001b[0;34m\u001b[0m\u001b[0m\n\u001b[1;32m    891\u001b[0m                 \u001b[0mkeys\u001b[0m\u001b[0;34m,\u001b[0m\u001b[0;34m\u001b[0m\u001b[0;34m\u001b[0m\u001b[0m\n",
            "\u001b[0;32m/usr/local/lib/python3.8/dist-packages/pandas/core/groupby/grouper.py\u001b[0m in \u001b[0;36mget_grouper\u001b[0;34m(obj, key, axis, level, sort, observed, mutated, validate, dropna)\u001b[0m\n\u001b[1;32m    860\u001b[0m                 \u001b[0min_axis\u001b[0m\u001b[0;34m,\u001b[0m \u001b[0mlevel\u001b[0m\u001b[0;34m,\u001b[0m \u001b[0mgpr\u001b[0m \u001b[0;34m=\u001b[0m \u001b[0;32mFalse\u001b[0m\u001b[0;34m,\u001b[0m \u001b[0mgpr\u001b[0m\u001b[0;34m,\u001b[0m \u001b[0;32mNone\u001b[0m\u001b[0;34m\u001b[0m\u001b[0;34m\u001b[0m\u001b[0m\n\u001b[1;32m    861\u001b[0m             \u001b[0;32melse\u001b[0m\u001b[0;34m:\u001b[0m\u001b[0;34m\u001b[0m\u001b[0;34m\u001b[0m\u001b[0m\n\u001b[0;32m--> 862\u001b[0;31m                 \u001b[0;32mraise\u001b[0m \u001b[0mKeyError\u001b[0m\u001b[0;34m(\u001b[0m\u001b[0mgpr\u001b[0m\u001b[0;34m)\u001b[0m\u001b[0;34m\u001b[0m\u001b[0;34m\u001b[0m\u001b[0m\n\u001b[0m\u001b[1;32m    863\u001b[0m         \u001b[0;32melif\u001b[0m \u001b[0misinstance\u001b[0m\u001b[0;34m(\u001b[0m\u001b[0mgpr\u001b[0m\u001b[0;34m,\u001b[0m \u001b[0mGrouper\u001b[0m\u001b[0;34m)\u001b[0m \u001b[0;32mand\u001b[0m \u001b[0mgpr\u001b[0m\u001b[0;34m.\u001b[0m\u001b[0mkey\u001b[0m \u001b[0;32mis\u001b[0m \u001b[0;32mnot\u001b[0m \u001b[0;32mNone\u001b[0m\u001b[0;34m:\u001b[0m\u001b[0;34m\u001b[0m\u001b[0;34m\u001b[0m\u001b[0m\n\u001b[1;32m    864\u001b[0m             \u001b[0;31m# Add key to exclusions\u001b[0m\u001b[0;34m\u001b[0m\u001b[0;34m\u001b[0m\u001b[0;34m\u001b[0m\u001b[0m\n",
            "\u001b[0;31mKeyError\u001b[0m: 'Additional_Info'"
          ]
        }
      ]
    }
  ]
}