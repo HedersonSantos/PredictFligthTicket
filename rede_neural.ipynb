{
  "nbformat": 4,
  "nbformat_minor": 0,
  "metadata": {
    "colab": {
      "provenance": [],
      "authorship_tag": "ABX9TyNezJtWrEg8Vcmyk8rxFQtj",
      "include_colab_link": true
    },
    "kernelspec": {
      "name": "python3",
      "display_name": "Python 3"
    },
    "language_info": {
      "name": "python"
    }
  },
  "cells": [
    {
      "cell_type": "markdown",
      "metadata": {
        "id": "view-in-github",
        "colab_type": "text"
      },
      "source": [
        "<a href=\"https://colab.research.google.com/github/HedersonSantos/PredictFligthTicket/blob/main/rede_neural.ipynb\" target=\"_parent\"><img src=\"https://colab.research.google.com/assets/colab-badge.svg\" alt=\"Open In Colab\"/></a>"
      ]
    },
    {
      "cell_type": "code",
      "source": [],
      "metadata": {
        "id": "e2hBYtHuXt6M"
      },
      "execution_count": null,
      "outputs": []
    },
    {
      "cell_type": "code",
      "execution_count": 1,
      "metadata": {
        "id": "K7AD6CU4XPm_"
      },
      "outputs": [],
      "source": [
        "import pandas as pd\n",
        "from sklearn.model_selection import train_test_split\n",
        "from sklearn.metrics import r2_score, mean_squared_error"
      ]
    },
    {
      "cell_type": "code",
      "source": [
        "import pandas as pd\n",
        "from sklearn.model_selection import train_test_split\n",
        "from sklearn.metrics import r2_score, mean_squared_error\n",
        "from tensorflow import keras"
      ],
      "metadata": {
        "id": "a4_OSjOLX4Td"
      },
      "execution_count": 6,
      "outputs": []
    },
    {
      "cell_type": "code",
      "source": [
        "!wget https://raw.githubusercontent.com/HedersonSantos/PredictFligthTicket/main/data/train_tratado.csv\n",
        "!wget https://raw.githubusercontent.com/HedersonSantos/PredictFligthTicket/main/data/test_tratado.csv"
      ],
      "metadata": {
        "colab": {
          "base_uri": "https://localhost:8080/"
        },
        "id": "uMvAsPvNX5e8",
        "outputId": "67c01019-69d9-47f7-90cb-dfaa70b31927"
      },
      "execution_count": 3,
      "outputs": [
        {
          "output_type": "stream",
          "name": "stdout",
          "text": [
            "--2023-02-28 23:33:33--  https://raw.githubusercontent.com/HedersonSantos/PredictFligthTicket/main/data/train_tratado.csv\n",
            "Resolving raw.githubusercontent.com (raw.githubusercontent.com)... 185.199.110.133, 185.199.111.133, 185.199.109.133, ...\n",
            "Connecting to raw.githubusercontent.com (raw.githubusercontent.com)|185.199.110.133|:443... connected.\n",
            "HTTP request sent, awaiting response... 200 OK\n",
            "Length: 729899 (713K) [text/plain]\n",
            "Saving to: ‘train_tratado.csv’\n",
            "\n",
            "\rtrain_tratado.csv     0%[                    ]       0  --.-KB/s               \rtrain_tratado.csv   100%[===================>] 712.79K  --.-KB/s    in 0.02s   \n",
            "\n",
            "2023-02-28 23:33:33 (43.4 MB/s) - ‘train_tratado.csv’ saved [729899/729899]\n",
            "\n",
            "--2023-02-28 23:33:33--  https://raw.githubusercontent.com/HedersonSantos/PredictFligthTicket/main/data/test_tratado.csv\n",
            "Resolving raw.githubusercontent.com (raw.githubusercontent.com)... 185.199.110.133, 185.199.111.133, 185.199.109.133, ...\n",
            "Connecting to raw.githubusercontent.com (raw.githubusercontent.com)|185.199.110.133|:443... connected.\n",
            "HTTP request sent, awaiting response... 200 OK\n",
            "Length: 167546 (164K) [text/plain]\n",
            "Saving to: ‘test_tratado.csv’\n",
            "\n",
            "test_tratado.csv    100%[===================>] 163.62K  --.-KB/s    in 0.007s  \n",
            "\n",
            "2023-02-28 23:33:33 (21.5 MB/s) - ‘test_tratado.csv’ saved [167546/167546]\n",
            "\n"
          ]
        }
      ]
    },
    {
      "cell_type": "code",
      "source": [
        "train=pd.read_csv(\"train_tratado.csv\", header=0)\n",
        "X=train.drop([\"Price\"], axis=1)\n",
        "y=train[\"Price\"]\n",
        "X_train,X_val,y_train,y_val = train_test_split(X,y, test_size=0.20, random_state=42)"
      ],
      "metadata": {
        "id": "XMcqoDM3YKZV"
      },
      "execution_count": 5,
      "outputs": []
    },
    {
      "cell_type": "code",
      "source": [
        "X_train.shape[1]"
      ],
      "metadata": {
        "colab": {
          "base_uri": "https://localhost:8080/"
        },
        "id": "kzqCk3CSYu-V",
        "outputId": "df310d45-1da7-4fbc-8e22-ca4dd3806131"
      },
      "execution_count": 7,
      "outputs": [
        {
          "output_type": "execute_result",
          "data": {
            "text/plain": [
              "15"
            ]
          },
          "metadata": {},
          "execution_count": 7
        }
      ]
    },
    {
      "cell_type": "code",
      "source": [
        "from numpy.random import seed\n",
        "seed(1)\n",
        "from tensorflow.random import set_seed\n",
        "set_seed(2)\n",
        "\n",
        "#from tensorflow.keras.datasets import boston_housing\n",
        "#(x_train, y_train), (x_target, y_target) = boston_housing.load_data()"
      ],
      "metadata": {
        "colab": {
          "base_uri": "https://localhost:8080/"
        },
        "id": "d2g0heQ1Xobt",
        "outputId": "5fc56235-90b2-470a-ccff-d372b0990cbc"
      },
      "execution_count": 2,
      "outputs": [
        {
          "output_type": "stream",
          "name": "stdout",
          "text": [
            "Downloading data from https://storage.googleapis.com/tensorflow/tf-keras-datasets/boston_housing.npz\n",
            "57026/57026 [==============================] - 0s 0us/step\n"
          ]
        }
      ]
    },
    {
      "cell_type": "code",
      "source": [
        "model2 = keras.Sequential(\n",
        "    [\n",
        "        keras.layers.Dense(32, activation=\"relu\", input_shape=(X_train.shape[1],)),\n",
        "        keras.layers.Dense(32, activation=\"relu\"),\n",
        "        keras.layers.Dense(32, activation=\"relu\"),\n",
        "        keras.layers.Dense(1, activation=\"relu\"),\n",
        "    ]\n",
        ")\n",
        "model2.summary()"
      ],
      "metadata": {
        "colab": {
          "base_uri": "https://localhost:8080/"
        },
        "id": "L1Ws2455YZcl",
        "outputId": "e3ca720d-a6dd-4071-f1a6-d10244678e94"
      },
      "execution_count": 16,
      "outputs": [
        {
          "output_type": "stream",
          "name": "stdout",
          "text": [
            "Model: \"sequential_3\"\n",
            "_________________________________________________________________\n",
            " Layer (type)                Output Shape              Param #   \n",
            "=================================================================\n",
            " dense_12 (Dense)            (None, 32)                512       \n",
            "                                                                 \n",
            " dense_13 (Dense)            (None, 32)                1056      \n",
            "                                                                 \n",
            " dense_14 (Dense)            (None, 32)                1056      \n",
            "                                                                 \n",
            " dense_15 (Dense)            (None, 1)                 33        \n",
            "                                                                 \n",
            "=================================================================\n",
            "Total params: 2,657\n",
            "Trainable params: 2,657\n",
            "Non-trainable params: 0\n",
            "_________________________________________________________________\n"
          ]
        }
      ]
    },
    {
      "cell_type": "code",
      "source": [
        "mean = X_train.mean(axis=0)\n",
        "X_train -= mean\n",
        "std = X_train.std(axis=0)\n",
        "X_train /= std\n",
        "\n",
        "X_val -= mean\n",
        "X_val /= std\n",
        "\n",
        "model2.compile(optimizer=keras.optimizers.SGD(0.1),\n",
        "              loss='mse', metrics=['mae',keras.metrics.RootMeanSquaredError()])\n",
        "\n",
        "history = model2.fit(\n",
        "    X_train, y_train,\n",
        "    batch_size=8,\n",
        "    epochs=25,\n",
        "    verbose=1,\n",
        "    validation_data=(X_val, y_val),\n",
        ")"
      ],
      "metadata": {
        "colab": {
          "base_uri": "https://localhost:8080/"
        },
        "id": "SH-4ifbpZNpv",
        "outputId": "8cfa7551-89af-4af0-f013-290a9a55fce5"
      },
      "execution_count": 19,
      "outputs": [
        {
          "output_type": "stream",
          "name": "stdout",
          "text": [
            "Epoch 1/25\n",
            "1069/1069 [==============================] - 6s 3ms/step - loss: 103639104.0000 - mae: 9074.8271 - root_mean_squared_error: 10180.3291 - val_loss: 104630472.0000 - val_mae: 9135.9980 - val_root_mean_squared_error: 10228.9033\n",
            "Epoch 2/25\n",
            "1069/1069 [==============================] - 3s 2ms/step - loss: 103638992.0000 - mae: 9074.8301 - root_mean_squared_error: 10180.3242 - val_loss: 104630472.0000 - val_mae: 9135.9980 - val_root_mean_squared_error: 10228.9033\n",
            "Epoch 3/25\n",
            "1069/1069 [==============================] - 3s 2ms/step - loss: 103639000.0000 - mae: 9074.8252 - root_mean_squared_error: 10180.3242 - val_loss: 104630472.0000 - val_mae: 9135.9980 - val_root_mean_squared_error: 10228.9033\n",
            "Epoch 4/25\n",
            "1069/1069 [==============================] - 3s 3ms/step - loss: 103639080.0000 - mae: 9074.8232 - root_mean_squared_error: 10180.3281 - val_loss: 104630472.0000 - val_mae: 9135.9980 - val_root_mean_squared_error: 10228.9033\n",
            "Epoch 5/25\n",
            "1069/1069 [==============================] - 3s 3ms/step - loss: 103639056.0000 - mae: 9074.8311 - root_mean_squared_error: 10180.3271 - val_loss: 104630472.0000 - val_mae: 9135.9980 - val_root_mean_squared_error: 10228.9033\n",
            "Epoch 6/25\n",
            "1069/1069 [==============================] - 2s 2ms/step - loss: 103639184.0000 - mae: 9074.8389 - root_mean_squared_error: 10180.3330 - val_loss: 104630472.0000 - val_mae: 9135.9980 - val_root_mean_squared_error: 10228.9033\n",
            "Epoch 7/25\n",
            "1069/1069 [==============================] - 2s 2ms/step - loss: 103639088.0000 - mae: 9074.8330 - root_mean_squared_error: 10180.3281 - val_loss: 104630472.0000 - val_mae: 9135.9980 - val_root_mean_squared_error: 10228.9033\n",
            "Epoch 8/25\n",
            "1069/1069 [==============================] - 2s 2ms/step - loss: 103639064.0000 - mae: 9074.8281 - root_mean_squared_error: 10180.3271 - val_loss: 104630472.0000 - val_mae: 9135.9980 - val_root_mean_squared_error: 10228.9033\n",
            "Epoch 9/25\n",
            "1069/1069 [==============================] - 3s 3ms/step - loss: 103639008.0000 - mae: 9074.8174 - root_mean_squared_error: 10180.3242 - val_loss: 104630472.0000 - val_mae: 9135.9980 - val_root_mean_squared_error: 10228.9033\n",
            "Epoch 10/25\n",
            "1069/1069 [==============================] - 3s 3ms/step - loss: 103639088.0000 - mae: 9074.8232 - root_mean_squared_error: 10180.3281 - val_loss: 104630472.0000 - val_mae: 9135.9980 - val_root_mean_squared_error: 10228.9033\n",
            "Epoch 11/25\n",
            "1069/1069 [==============================] - 3s 2ms/step - loss: 103639056.0000 - mae: 9074.8291 - root_mean_squared_error: 10180.3271 - val_loss: 104630472.0000 - val_mae: 9135.9980 - val_root_mean_squared_error: 10228.9033\n",
            "Epoch 12/25\n",
            "1069/1069 [==============================] - 2s 2ms/step - loss: 103639056.0000 - mae: 9074.8281 - root_mean_squared_error: 10180.3271 - val_loss: 104630472.0000 - val_mae: 9135.9980 - val_root_mean_squared_error: 10228.9033\n",
            "Epoch 13/25\n",
            "1069/1069 [==============================] - 3s 2ms/step - loss: 103639040.0000 - mae: 9074.8164 - root_mean_squared_error: 10180.3262 - val_loss: 104630472.0000 - val_mae: 9135.9980 - val_root_mean_squared_error: 10228.9033\n",
            "Epoch 14/25\n",
            "1069/1069 [==============================] - 4s 3ms/step - loss: 103639056.0000 - mae: 9074.8291 - root_mean_squared_error: 10180.3271 - val_loss: 104630472.0000 - val_mae: 9135.9980 - val_root_mean_squared_error: 10228.9033\n",
            "Epoch 15/25\n",
            "1069/1069 [==============================] - 3s 2ms/step - loss: 103639056.0000 - mae: 9074.8252 - root_mean_squared_error: 10180.3271 - val_loss: 104630472.0000 - val_mae: 9135.9980 - val_root_mean_squared_error: 10228.9033\n",
            "Epoch 16/25\n",
            "1069/1069 [==============================] - 2s 2ms/step - loss: 103639064.0000 - mae: 9074.8291 - root_mean_squared_error: 10180.3271 - val_loss: 104630472.0000 - val_mae: 9135.9980 - val_root_mean_squared_error: 10228.9033\n",
            "Epoch 17/25\n",
            "1069/1069 [==============================] - 3s 2ms/step - loss: 103639088.0000 - mae: 9074.8330 - root_mean_squared_error: 10180.3281 - val_loss: 104630472.0000 - val_mae: 9135.9980 - val_root_mean_squared_error: 10228.9033\n",
            "Epoch 18/25\n",
            "1069/1069 [==============================] - 3s 3ms/step - loss: 103639144.0000 - mae: 9074.8330 - root_mean_squared_error: 10180.3311 - val_loss: 104630472.0000 - val_mae: 9135.9980 - val_root_mean_squared_error: 10228.9033\n",
            "Epoch 19/25\n",
            "1069/1069 [==============================] - 3s 3ms/step - loss: 103639096.0000 - mae: 9074.8223 - root_mean_squared_error: 10180.3291 - val_loss: 104630472.0000 - val_mae: 9135.9980 - val_root_mean_squared_error: 10228.9033\n",
            "Epoch 20/25\n",
            "1069/1069 [==============================] - 3s 3ms/step - loss: 103639088.0000 - mae: 9074.8252 - root_mean_squared_error: 10180.3281 - val_loss: 104630472.0000 - val_mae: 9135.9980 - val_root_mean_squared_error: 10228.9033\n",
            "Epoch 21/25\n",
            "1069/1069 [==============================] - 3s 3ms/step - loss: 103639056.0000 - mae: 9074.8350 - root_mean_squared_error: 10180.3271 - val_loss: 104630472.0000 - val_mae: 9135.9980 - val_root_mean_squared_error: 10228.9033\n",
            "Epoch 22/25\n",
            "1069/1069 [==============================] - 3s 3ms/step - loss: 103639016.0000 - mae: 9074.8291 - root_mean_squared_error: 10180.3252 - val_loss: 104630472.0000 - val_mae: 9135.9980 - val_root_mean_squared_error: 10228.9033\n",
            "Epoch 23/25\n",
            "1069/1069 [==============================] - 4s 3ms/step - loss: 103638984.0000 - mae: 9074.8203 - root_mean_squared_error: 10180.3232 - val_loss: 104630472.0000 - val_mae: 9135.9980 - val_root_mean_squared_error: 10228.9033\n",
            "Epoch 24/25\n",
            "1069/1069 [==============================] - 2s 2ms/step - loss: 103639104.0000 - mae: 9074.8301 - root_mean_squared_error: 10180.3291 - val_loss: 104630472.0000 - val_mae: 9135.9980 - val_root_mean_squared_error: 10228.9033\n",
            "Epoch 25/25\n",
            "1069/1069 [==============================] - 3s 2ms/step - loss: 103639088.0000 - mae: 9074.8213 - root_mean_squared_error: 10180.3281 - val_loss: 104630472.0000 - val_mae: 9135.9980 - val_root_mean_squared_error: 10228.9033\n"
          ]
        }
      ]
    },
    {
      "cell_type": "code",
      "source": [
        "score = model2.evaluate(X_val, y_val, verbose=0)\n",
        "print(\"MSE: %.1f\" % (score[0]))\n",
        "print(\"MAE: %.1f\" % (score[1]))"
      ],
      "metadata": {
        "colab": {
          "base_uri": "https://localhost:8080/"
        },
        "id": "AUCUGpNVeULy",
        "outputId": "f5ad16f1-cddc-4018-9eb2-c72ea08e5e63"
      },
      "execution_count": 23,
      "outputs": [
        {
          "output_type": "stream",
          "name": "stdout",
          "text": [
            "MSE: 104630416.0\n",
            "MAE: 9136.0\n"
          ]
        }
      ]
    }
  ]
}