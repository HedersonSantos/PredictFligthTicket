{
  "nbformat": 4,
  "nbformat_minor": 0,
  "metadata": {
    "colab": {
      "provenance": [],
      "authorship_tag": "ABX9TyMFKBmlFK0siJTEKd3JCPwS",
      "include_colab_link": true
    },
    "kernelspec": {
      "name": "python3",
      "display_name": "Python 3"
    },
    "language_info": {
      "name": "python"
    }
  },
  "cells": [
    {
      "cell_type": "markdown",
      "metadata": {
        "id": "view-in-github",
        "colab_type": "text"
      },
      "source": [
        "<a href=\"https://colab.research.google.com/github/HedersonSantos/PredictFligthTicket/blob/main/auto_ml_regression.ipynb\" target=\"_parent\"><img src=\"https://colab.research.google.com/assets/colab-badge.svg\" alt=\"Open In Colab\"/></a>"
      ]
    },
    {
      "cell_type": "code",
      "source": [
        "!pip3 install auto-sklearn"
      ],
      "metadata": {
        "colab": {
          "base_uri": "https://localhost:8080/"
        },
        "id": "Htk8Pe21KK0D",
        "outputId": "7816f60a-57ae-48c4-e5ee-deb965140a24"
      },
      "execution_count": 4,
      "outputs": [
        {
          "output_type": "stream",
          "name": "stdout",
          "text": [
            "Looking in indexes: https://pypi.org/simple, https://us-python.pkg.dev/colab-wheels/public/simple/\n",
            "Collecting auto-sklearn\n",
            "  Downloading auto-sklearn-0.15.0.tar.gz (6.5 MB)\n",
            "\u001b[2K     \u001b[90m━━━━━━━━━━━━━━━━━━━━━━━━━━━━━━━━━━━━━━━━\u001b[0m \u001b[32m6.5/6.5 MB\u001b[0m \u001b[31m78.1 MB/s\u001b[0m eta \u001b[36m0:00:00\u001b[0m\n",
            "\u001b[?25h  Installing build dependencies ... \u001b[?25l\u001b[?25hdone\n",
            "  Getting requirements to build wheel ... \u001b[?25l\u001b[?25hdone\n",
            "  Preparing metadata (pyproject.toml) ... \u001b[?25l\u001b[?25hdone\n",
            "Collecting smac<1.3,>=1.2\n",
            "  Downloading smac-1.2.tar.gz (260 kB)\n",
            "\u001b[2K     \u001b[90m━━━━━━━━━━━━━━━━━━━━━━━━━━━━━━━━━━━━━━\u001b[0m \u001b[32m260.9/260.9 KB\u001b[0m \u001b[31m29.1 MB/s\u001b[0m eta \u001b[36m0:00:00\u001b[0m\n",
            "\u001b[?25h  Preparing metadata (setup.py) ... \u001b[?25l\u001b[?25hdone\n",
            "Requirement already satisfied: setuptools in /usr/local/lib/python3.8/dist-packages (from auto-sklearn) (57.4.0)\n",
            "Collecting distro\n",
            "  Downloading distro-1.8.0-py3-none-any.whl (20 kB)\n",
            "Requirement already satisfied: distributed>=2012.12 in /usr/local/lib/python3.8/dist-packages (from auto-sklearn) (2022.2.1)\n",
            "Collecting liac-arff\n",
            "  Downloading liac-arff-2.5.0.tar.gz (13 kB)\n",
            "  Preparing metadata (setup.py) ... \u001b[?25l\u001b[?25hdone\n",
            "Requirement already satisfied: threadpoolctl in /usr/local/lib/python3.8/dist-packages (from auto-sklearn) (3.1.0)\n",
            "Requirement already satisfied: joblib in /usr/local/lib/python3.8/dist-packages (from auto-sklearn) (1.2.0)\n",
            "Collecting pynisher<0.7,>=0.6.3\n",
            "  Downloading pynisher-0.6.4.tar.gz (11 kB)\n",
            "  Preparing metadata (setup.py) ... \u001b[?25l\u001b[?25hdone\n",
            "Requirement already satisfied: scipy>=1.7.0 in /usr/local/lib/python3.8/dist-packages (from auto-sklearn) (1.7.3)\n",
            "Collecting scikit-learn<0.25.0,>=0.24.0\n",
            "  Downloading scikit_learn-0.24.2-cp38-cp38-manylinux2010_x86_64.whl (24.9 MB)\n",
            "\u001b[2K     \u001b[90m━━━━━━━━━━━━━━━━━━━━━━━━━━━━━━━━━━━━━━━━\u001b[0m \u001b[32m24.9/24.9 MB\u001b[0m \u001b[31m54.1 MB/s\u001b[0m eta \u001b[36m0:00:00\u001b[0m\n",
            "\u001b[?25hCollecting ConfigSpace<0.5,>=0.4.21\n",
            "  Downloading ConfigSpace-0.4.21-cp38-cp38-manylinux_2_17_x86_64.manylinux2014_x86_64.whl (4.9 MB)\n",
            "\u001b[2K     \u001b[90m━━━━━━━━━━━━━━━━━━━━━━━━━━━━━━━━━━━━━━━━\u001b[0m \u001b[32m4.9/4.9 MB\u001b[0m \u001b[31m86.1 MB/s\u001b[0m eta \u001b[36m0:00:00\u001b[0m\n",
            "\u001b[?25hCollecting pyrfr<0.9,>=0.8.1\n",
            "  Downloading pyrfr-0.8.3-cp38-cp38-manylinux_2_17_x86_64.manylinux2014_x86_64.whl (4.4 MB)\n",
            "\u001b[2K     \u001b[90m━━━━━━━━━━━━━━━━━━━━━━━━━━━━━━━━━━━━━━━━\u001b[0m \u001b[32m4.4/4.4 MB\u001b[0m \u001b[31m91.8 MB/s\u001b[0m eta \u001b[36m0:00:00\u001b[0m\n",
            "\u001b[?25hRequirement already satisfied: dask>=2021.12 in /usr/local/lib/python3.8/dist-packages (from auto-sklearn) (2022.2.1)\n",
            "Requirement already satisfied: numpy>=1.9.0 in /usr/local/lib/python3.8/dist-packages (from auto-sklearn) (1.22.4)\n",
            "Requirement already satisfied: pandas>=1.0 in /usr/local/lib/python3.8/dist-packages (from auto-sklearn) (1.3.5)\n",
            "Requirement already satisfied: pyyaml in /usr/local/lib/python3.8/dist-packages (from auto-sklearn) (6.0)\n",
            "Requirement already satisfied: typing-extensions in /usr/local/lib/python3.8/dist-packages (from auto-sklearn) (4.5.0)\n",
            "Requirement already satisfied: cython in /usr/local/lib/python3.8/dist-packages (from ConfigSpace<0.5,>=0.4.21->auto-sklearn) (0.29.33)\n",
            "Requirement already satisfied: pyparsing in /usr/local/lib/python3.8/dist-packages (from ConfigSpace<0.5,>=0.4.21->auto-sklearn) (3.0.9)\n",
            "Requirement already satisfied: toolz>=0.8.2 in /usr/local/lib/python3.8/dist-packages (from dask>=2021.12->auto-sklearn) (0.12.0)\n",
            "Requirement already satisfied: partd>=0.3.10 in /usr/local/lib/python3.8/dist-packages (from dask>=2021.12->auto-sklearn) (1.3.0)\n",
            "Requirement already satisfied: packaging>=20.0 in /usr/local/lib/python3.8/dist-packages (from dask>=2021.12->auto-sklearn) (23.0)\n",
            "Requirement already satisfied: cloudpickle>=1.1.1 in /usr/local/lib/python3.8/dist-packages (from dask>=2021.12->auto-sklearn) (2.2.1)\n",
            "Requirement already satisfied: fsspec>=0.6.0 in /usr/local/lib/python3.8/dist-packages (from dask>=2021.12->auto-sklearn) (2023.1.0)\n",
            "Requirement already satisfied: msgpack>=0.6.0 in /usr/local/lib/python3.8/dist-packages (from distributed>=2012.12->auto-sklearn) (1.0.4)\n",
            "Requirement already satisfied: psutil>=5.0 in /usr/local/lib/python3.8/dist-packages (from distributed>=2012.12->auto-sklearn) (5.4.8)\n",
            "Requirement already satisfied: sortedcontainers!=2.0.0,!=2.0.1 in /usr/local/lib/python3.8/dist-packages (from distributed>=2012.12->auto-sklearn) (2.4.0)\n",
            "Requirement already satisfied: zict>=0.1.3 in /usr/local/lib/python3.8/dist-packages (from distributed>=2012.12->auto-sklearn) (2.2.0)\n",
            "Requirement already satisfied: jinja2 in /usr/local/lib/python3.8/dist-packages (from distributed>=2012.12->auto-sklearn) (2.11.3)\n",
            "Requirement already satisfied: tornado>=6.0.3 in /usr/local/lib/python3.8/dist-packages (from distributed>=2012.12->auto-sklearn) (6.2)\n",
            "Requirement already satisfied: click>=6.6 in /usr/local/lib/python3.8/dist-packages (from distributed>=2012.12->auto-sklearn) (7.1.2)\n",
            "Requirement already satisfied: tblib>=1.6.0 in /usr/local/lib/python3.8/dist-packages (from distributed>=2012.12->auto-sklearn) (1.7.0)\n",
            "Requirement already satisfied: python-dateutil>=2.7.3 in /usr/local/lib/python3.8/dist-packages (from pandas>=1.0->auto-sklearn) (2.8.2)\n",
            "Requirement already satisfied: pytz>=2017.3 in /usr/local/lib/python3.8/dist-packages (from pandas>=1.0->auto-sklearn) (2022.7.1)\n",
            "Collecting emcee>=3.0.0\n",
            "  Downloading emcee-3.1.4-py2.py3-none-any.whl (46 kB)\n",
            "\u001b[2K     \u001b[90m━━━━━━━━━━━━━━━━━━━━━━━━━━━━━━━━━━━━━━━━\u001b[0m \u001b[32m46.2/46.2 KB\u001b[0m \u001b[31m6.0 MB/s\u001b[0m eta \u001b[36m0:00:00\u001b[0m\n",
            "\u001b[?25hRequirement already satisfied: locket in /usr/local/lib/python3.8/dist-packages (from partd>=0.3.10->dask>=2021.12->auto-sklearn) (1.0.0)\n",
            "Requirement already satisfied: six>=1.5 in /usr/local/lib/python3.8/dist-packages (from python-dateutil>=2.7.3->pandas>=1.0->auto-sklearn) (1.15.0)\n",
            "Requirement already satisfied: heapdict in /usr/local/lib/python3.8/dist-packages (from zict>=0.1.3->distributed>=2012.12->auto-sklearn) (1.0.1)\n",
            "Requirement already satisfied: MarkupSafe>=0.23 in /usr/local/lib/python3.8/dist-packages (from jinja2->distributed>=2012.12->auto-sklearn) (2.0.1)\n",
            "Building wheels for collected packages: auto-sklearn, pynisher, smac, liac-arff\n",
            "  Building wheel for auto-sklearn (pyproject.toml) ... \u001b[?25l\u001b[?25hdone\n",
            "  Created wheel for auto-sklearn: filename=auto_sklearn-0.15.0-py3-none-any.whl size=6641945 sha256=44d6a177c3d6e82f2eb487fc3d0e361baedaff61ca6c2eb6d8d34d2b7a343df1\n",
            "  Stored in directory: /root/.cache/pip/wheels/c5/11/0e/aeac2cee929fa4388e528737b49deb2eea05486e6f80d61c1a\n",
            "  Building wheel for pynisher (setup.py) ... \u001b[?25l\u001b[?25hdone\n",
            "  Created wheel for pynisher: filename=pynisher-0.6.4-py3-none-any.whl size=7044 sha256=713c381105219e5612072476b443ea8f2e2031b7f1b2d7ab31a61fb66d146e7b\n",
            "  Stored in directory: /root/.cache/pip/wheels/a7/0b/c3/169e35bcd72f20d0d5e24c37dd2dff8282cc16c06df9762ff5\n",
            "  Building wheel for smac (setup.py) ... \u001b[?25l\u001b[?25hdone\n",
            "  Created wheel for smac: filename=smac-1.2-py3-none-any.whl size=215930 sha256=9b8c347d8b74f8dfa1be36fd659b10a53c1a5c0b49afd950f83e5ca175f94d56\n",
            "  Stored in directory: /root/.cache/pip/wheels/1c/0d/63/29515e546f52561bf5ff41e3968fe2c35afe4ae366be54b2c4\n",
            "  Building wheel for liac-arff (setup.py) ... \u001b[?25l\u001b[?25hdone\n",
            "  Created wheel for liac-arff: filename=liac_arff-2.5.0-py3-none-any.whl size=11732 sha256=6f9145ba643347ad2ebac6d4c1809b42da4b28a14ce3237e7e6abc7375858698\n",
            "  Stored in directory: /root/.cache/pip/wheels/a2/de/68/bf3972de3ecb31e32bef59a7f4c75f0687a3674c476b347c14\n",
            "Successfully built auto-sklearn pynisher smac liac-arff\n",
            "Installing collected packages: pyrfr, pynisher, liac-arff, emcee, distro, scikit-learn, ConfigSpace, smac, auto-sklearn\n",
            "  Attempting uninstall: scikit-learn\n",
            "    Found existing installation: scikit-learn 1.0.2\n",
            "    Uninstalling scikit-learn-1.0.2:\n",
            "      Successfully uninstalled scikit-learn-1.0.2\n",
            "\u001b[31mERROR: pip's dependency resolver does not currently take into account all the packages that are installed. This behaviour is the source of the following dependency conflicts.\n",
            "yellowbrick 1.5 requires scikit-learn>=1.0.0, but you have scikit-learn 0.24.2 which is incompatible.\u001b[0m\u001b[31m\n",
            "\u001b[0mSuccessfully installed ConfigSpace-0.4.21 auto-sklearn-0.15.0 distro-1.8.0 emcee-3.1.4 liac-arff-2.5.0 pynisher-0.6.4 pyrfr-0.8.3 scikit-learn-0.24.2 smac-1.2\n"
          ]
        }
      ]
    },
    {
      "cell_type": "code",
      "execution_count": 25,
      "metadata": {
        "colab": {
          "base_uri": "https://localhost:8080/"
        },
        "id": "1BFOf_3iJzEM",
        "outputId": "b93d5c5c-f92e-42d0-b05d-7e3b0713b523"
      },
      "outputs": [
        {
          "output_type": "stream",
          "name": "stdout",
          "text": [
            "autosklearn:0.15.0\n"
          ]
        }
      ],
      "source": [
        "import pandas as pd\n",
        "from sklearn.model_selection import train_test_split\n",
        "from sklearn.metrics import r2_score, mean_squared_error\n",
        "import autosklearn\n",
        "from autosklearn.regression import AutoSklearnRegressor\n",
        "print(f\"autosklearn:{autosklearn.__version__}\")"
      ]
    },
    {
      "cell_type": "code",
      "source": [
        "!wget https://raw.githubusercontent.com/HedersonSantos/PredictFligthTicket/main/data/train_tratado.csv\n",
        "!wget https://raw.githubusercontent.com/HedersonSantos/PredictFligthTicket/main/data/test_tratado.csv"
      ],
      "metadata": {
        "colab": {
          "base_uri": "https://localhost:8080/"
        },
        "id": "g5EThj3HLHpq",
        "outputId": "1e6002a6-8a7a-4a87-ce5b-b478a9294a72"
      },
      "execution_count": 13,
      "outputs": [
        {
          "output_type": "stream",
          "name": "stdout",
          "text": [
            "--2023-02-27 23:25:47--  https://raw.githubusercontent.com/HedersonSantos/PredictFligthTicket/main/data/train_tratado.csv\n",
            "Resolving raw.githubusercontent.com (raw.githubusercontent.com)... 185.199.108.133, 185.199.109.133, 185.199.110.133, ...\n",
            "Connecting to raw.githubusercontent.com (raw.githubusercontent.com)|185.199.108.133|:443... connected.\n",
            "HTTP request sent, awaiting response... 200 OK\n",
            "Length: 729899 (713K) [text/plain]\n",
            "Saving to: ‘train_tratado.csv’\n",
            "\n",
            "\rtrain_tratado.csv     0%[                    ]       0  --.-KB/s               \rtrain_tratado.csv   100%[===================>] 712.79K  --.-KB/s    in 0.007s  \n",
            "\n",
            "2023-02-27 23:25:47 (104 MB/s) - ‘train_tratado.csv’ saved [729899/729899]\n",
            "\n",
            "--2023-02-27 23:25:47--  https://raw.githubusercontent.com/HedersonSantos/PredictFligthTicket/main/data/test_tratado.csv\n",
            "Resolving raw.githubusercontent.com (raw.githubusercontent.com)... 185.199.110.133, 185.199.111.133, 185.199.108.133, ...\n",
            "Connecting to raw.githubusercontent.com (raw.githubusercontent.com)|185.199.110.133|:443... connected.\n",
            "HTTP request sent, awaiting response... 200 OK\n",
            "Length: 167546 (164K) [text/plain]\n",
            "Saving to: ‘test_tratado.csv’\n",
            "\n",
            "test_tratado.csv    100%[===================>] 163.62K  --.-KB/s    in 0.004s  \n",
            "\n",
            "2023-02-27 23:25:47 (37.8 MB/s) - ‘test_tratado.csv’ saved [167546/167546]\n",
            "\n"
          ]
        }
      ]
    },
    {
      "cell_type": "code",
      "source": [
        "train=pd.read_csv(\"train_tratado.csv\", header=0)\n",
        "X=train.drop([\"Price\"], axis=1)\n",
        "y=train[\"Price\"]\n",
        "X_train,X_val,y_train,y_val = train_test_split(X,y, test_size=0.20, random_state=42)"
      ],
      "metadata": {
        "id": "8BLtPAHdKf0T"
      },
      "execution_count": 20,
      "outputs": []
    },
    {
      "cell_type": "code",
      "source": [
        "\n",
        "automl = AutoSklearnRegressor(time_left_for_this_task=5*60,\n",
        "                                                     per_run_time_limit=30,\n",
        "                                                     n_jobs=-1)\n",
        "automl.fit(X_train, y_train)\n",
        "y_pred = automl.predict(X_val)\n",
        "score=r2_score(y_val, y_pred)\n",
        "print(score)\n",
        "show_modes_str=automl.show_models()\n",
        "sprint_statistics_str = automl.sprint_statistics()\n",
        "\n",
        "print(show_modes_str)\n",
        "print(sprint_statistics_str)"
      ],
      "metadata": {
        "id": "zNfyyBalOXUE"
      },
      "execution_count": null,
      "outputs": []
    }
  ]
}